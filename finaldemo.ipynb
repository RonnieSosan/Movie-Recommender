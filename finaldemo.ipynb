{
 "cells": [
  {
   "cell_type": "code",
   "execution_count": 2,
   "metadata": {},
   "outputs": [
    {
     "name": "stdout",
     "output_type": "stream",
     "text": [
      "Calculating Cosine similarity for user 11, and user 30... Score: 0.13633292093996693\n",
      "Calculating Pearson similarity for user 11, and user 30... Score: -0.18294793072126084\n",
      "Calculating Euclidean similarity for user 11, and user 30... Score: 3\n",
      "Calculating Jaccard similarity for user 11, and user 30... Score: 0.04672897196261682\n",
      "Calculating Manhattan similaritiy for user 11, and user 30... Score: 7\n",
      "Getting 5 similar users to user 23 using Pearson similarity (this may take a long time)...Done!\n",
      "\n",
      "User 265 with score: 0.4685795993489945\n",
      "User 241 with score: nan\n",
      "User 223 with score: 0.3623533027773647\n",
      "User 138 with score: 0.3451109772919932\n",
      "User 174 with score: 0.2759284202596466\n",
      "Getting 10 movie recommendations for user 11 using Pearson similarity (this may take a long time)...Done!\n",
      "\n",
      "This user might be interested in the following movies:\n",
      "Angel Baby (1995)\n",
      "Love Serenade (1996)\n",
      "Aparajito (1956)\n",
      "Tom and Huck (1995)\n",
      "Saint of Fort Washington, The (1993)\n",
      "Boys, Les (1997)\n",
      "Anna (1996)\n",
      "Mondo (1996)\n",
      "Mina Tannenbaum (1994)\n",
      "A Chef in Love (1996)\n"
     ]
    }
   ],
   "source": [
    "#import the necessary module\n",
    "from krecommendations3 import KRecommender\n",
    "#set the class KRecommender as kr\n",
    "kr = KRecommender()\n",
    "#print the cosine similarity between two given users (i.e. 11 and 30)\n",
    "print(\"Calculating Cosine similarity for user 11, and user 30... \", end='')\n",
    "print(f\"Score: {kr.cosine_score(11, 30)}\")\n",
    "#print the pearson similarity between two given users (i.e. 11 and 30)\n",
    "print(\"Calculating Pearson similarity for user 11, and user 30... \", end='')\n",
    "print(f\"Score: {kr.pearson_score(11, 30)}\")\n",
    "#print the euclidean similarity between two given users (i.e. 11 and 30)\n",
    "print(\"Calculating Euclidean similarity for user 11, and user 30... \", end='')\n",
    "print(f\"Score: {kr.euclidean_score(11, 30)}\")\n",
    "#print the jaccard similarity between two given users (i.e. 11 and 30)\n",
    "print(\"Calculating Jaccard similarity for user 11, and user 30... \", end='')\n",
    "print(f\"Score: {kr.jaccard_score(11, 30)}\")\n",
    "#print the manhattan similarity between two given users (i.e. 11 and 30)\n",
    "print(\"Calculating Manhattan similaritiy for user 11, and user 30... \", end='')\n",
    "print(f\"Score: {kr.manhattan_score(11, 30)}\")\n",
    "#print a message about most similar users\n",
    "print(\"Getting 5 similar users to user 23 using Pearson similarity (this may take a long time)...\", end='')\n",
    "#set get_most_similar_users_to_user from kr (including a target user and 5 generated similar users) as users\n",
    "users = kr.get_most_similar_users_to_user(23, 5)\n",
    "#print a message that the process is done\n",
    "print(\"Done!\\n\")\n",
    "#for loop to add the similarity score to the output:\n",
    "for u in users:\n",
    "    print(f\"User {u[1]} with score: {u[0]}\")\n",
    "#print a message about movie recommendations\n",
    "print(\"Getting 10 movie recommendations for user 11 using Pearson similarity (this may take a long time)...\", end='')\n",
    "#set get_movie_recommendations_for_user from kr (including a target user and a given metric) as movies\n",
    "movies = kr.get_movie_recommendations_for_user(11, metric='pearson')\n",
    "#print a message once the process is complete\n",
    "print(\"Done!\\n\\nThis user might be interested in the following movies:\")\n",
    "#for loop to add the similarity score to the output:\n",
    "for m in movies:\n",
    "    print(m)"
   ]
  },
  {
   "cell_type": "code",
   "execution_count": null,
   "metadata": {},
   "outputs": [],
   "source": []
  }
 ],
 "metadata": {
  "kernelspec": {
   "display_name": "Python 3",
   "language": "python",
   "name": "python3"
  },
  "language_info": {
   "codemirror_mode": {
    "name": "ipython",
    "version": 3
   },
   "file_extension": ".py",
   "mimetype": "text/x-python",
   "name": "python",
   "nbconvert_exporter": "python",
   "pygments_lexer": "ipython3",
   "version": "3.7.3"
  }
 },
 "nbformat": 4,
 "nbformat_minor": 4
}
